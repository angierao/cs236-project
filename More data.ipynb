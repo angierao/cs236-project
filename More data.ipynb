{
 "cells": [
  {
   "cell_type": "code",
   "execution_count": 1,
   "metadata": {},
   "outputs": [],
   "source": [
    "import pandas as pd\n",
    "import numpy as np\n",
    "import matplotlib.pyplot as plt\n",
    "import sklearn as sk\n",
    "from sklearn.linear_model import LinearRegression\n",
    "from sklearn.ensemble import RandomForestRegressor\n",
    "from sklearn.ensemble import RandomForestClassifier\n",
    "from collections import Counter\n",
    "from datetime import datetime"
   ]
  },
  {
   "cell_type": "code",
   "execution_count": 2,
   "metadata": {},
   "outputs": [],
   "source": [
    "df_scores = pd.read_csv(\"compas-scores.csv\")\n",
    "df_scores = df_scores[df_scores.c_charge_degree != 'O']"
   ]
  },
  {
   "cell_type": "code",
   "execution_count": 16,
   "metadata": {},
   "outputs": [],
   "source": [
    "battery = ['batt']\n",
    "assault = ['assault', 'abuse']\n",
    "drugs = ['subst', 'cannabi', 'cocaine', 'deliver', 'del ', 'alprazolam', 'pyrro', 'heroin', \n",
    "              'hydro','ethylone', 'drug', 'anabolic', 'steroid',\n",
    "             'tamine', 'meth', 'codeine', 'lsd',\n",
    "             'buprenorphine', 'lorazepam','carisoprodol', 'benzyl',\n",
    "             'clonazepam', 'diazepam', 'morph', 'fluor', ',4', 'fentanyl',\n",
    "             'phentermine', 'butylone']\n",
    "driving = ['dui', 'driv', 'veh', 'operat', ' dl', 'd.u.i', 'dwi']\n",
    "prop = ['burg', 'arson', 'theft', 'property', 'mischief', 'trespass', 'fraud', 'stole']\n",
    "weapon = ['firearm', 'weapon', 'arm', 'wep']\n",
    "sexual = ['sex', 'prostitu', 'lewd', 'voyeur', 'porn']\n",
    "obstruct = ['flee', 'forg', 'tamper', 'false', 'obstruct', 'obey', 'resist', ' id']\n",
    "domestic = ['dom', 'child']\n",
    "agg = ['agg']\n",
    "violent = ['rape', 'assault', 'abuse', 'kidnap', 'murder', 'manslaughter', 'batt', 'assault', 'abuse']\n",
    "public_order = ['weapon', 'firearm', 'arm', 'dui', 'driv', 'd.u.i.', 'dwi']"
   ]
  },
  {
   "cell_type": "code",
   "execution_count": 18,
   "metadata": {},
   "outputs": [
    {
     "name": "stdout",
     "output_type": "stream",
     "text": [
      "[('arrest case no charge', 1857), ('Battery', 1811), ('Possession of Cocaine', 703), ('Grand Theft in the 3rd Degree', 688), ('Driving While License Revoked', 255), ('Driving Under The Influence', 217), ('Felony Battery (Dom Strang)', 174), ('Felony Driving While Lic Suspd', 159), ('Grand Theft (Motor Vehicle)', 139), ('Burglary Unoccupied Dwelling', 132), ('Pos Cannabis W/Intent Sel/Del', 131), ('Possess Cannabis/20 Grams Or Less', 127), ('Aggravated Assault W/Dead Weap', 124), ('Burglary Conveyance Unoccup', 124), ('DUI Property Damage/Injury', 111), ('Possession of Cannabis', 109), ('Aggrav Battery w/Deadly Weapon', 101), ('Felony Petit Theft', 98), ('DUI Level 0.15 Or Minor In Veh', 93), ('Driving License Suspended', 92), ('Uttering a Forged Instrument', 91), ('Resist Officer w/Violence', 90), ('Battery on Law Enforc Officer', 83), ('Poss3,4 Methylenedioxymethcath', 81), ('Possession Of Alprazolam', 79), ('Aggravated Battery / Pregnant', 75), ('Felony Battery w/Prior Convict', 73), ('Tampering With Physical Evidence', 72), ('Susp Drivers Lic 1st Offense', 72), ('Poss Pyrrolidinovalerophenone', 70), ('Viol Injunct Domestic Violence', 66), ('Resist/Obstruct W/O Violence', 64), ('Agg Battery Grt/Bod/Harm', 59), ('Operating W/O Valid License', 58), ('Burglary Structure Unoccup', 57), ('Petit Theft', 53), ('Aggravated Assault W/dead Weap', 51), ('Assault', 50), ('Possession Of Heroin', 49), ('Carrying Concealed Firearm', 49), ('Possession Burglary Tools', 46), ('Disorderly Conduct', 45), ('Possession Of Methamphetamine', 44), ('Crim Use of Personal ID Info', 44), ('Possession of Oxycodone', 42), ('Burglary Dwelling Occupied', 42), ('Aggravated Assault w/Firearm', 39), ('Deliver Cocaine', 38), ('False Imprisonment', 37), ('Neglect Child / No Bodily Harm', 36), ('Tamper With Witness/Victim/CI', 35), ('Robbery / No Weapon', 33), ('Viol Prot Injunc Repeat Viol', 33), ('Battery on a Person Over 65', 32), ('Poss Cocaine/Intent To Del/Sel', 30), ('Burglary Dwelling Assault/Batt', 29), ('Poss Contr Subst W/o Prescript', 29), ('Aggravated Battery', 28), ('DUI - Enhanced', 27), ('Fleeing Or Attmp Eluding A Leo', 27), ('Crimin Mischief Damage $1000+', 26), ('False Ownership Info/Pawn Item', 26), ('Lve/Scen/Acc/Veh/Prop/Damage', 24), ('Child Abuse', 24), ('Deliver Cannabis', 23), ('Petit Theft $100- $300', 21), ('Felony/Driving Under Influence', 21), ('Possession of Hydromorphone', 21), ('Disorderly Intoxication', 20), ('Criminal Mischief', 20), ('Criminal Mischief Damage <$200', 20), ('Dealing in Stolen Property', 19), ('Robbery Sudd Snatch No Weapon', 19), ('Prowling/Loitering', 19), ('Felony Battery', 19), ('Leaving the Scene of Accident', 18), ('Felony DUI (level 3)', 17), ('Possession of Hydrocodone', 17), ('Viol Pretrial Release Dom Viol', 17), ('Felony Batt(Great Bodily Harm)', 17), ('Att Burgl Unoccupied Dwel', 15), ('Corrupt Public Servant', 15), ('Deliver 3,4 Methylenediox', 15), ('Exposes Culpable Negligence', 14), ('Prostitution/Lewd Act Assignation', 14), ('Poss Of Controlled Substance', 14), ('Cruelty Toward Child', 13), ('Possession of Ethylone', 13), ('Leave Acc/Attend Veh/More $50', 13), ('Burglary With Assault/battery', 13), ('Leaving Acc/Unattended Veh', 13), ('Lewd or Lascivious Molestation', 12), ('Reckless Driving', 12), ('Expired DL More Than 6 Months', 12), ('Unlaw LicTag/Sticker Attach', 12), ('Poss Unlaw Issue Driver Licenc', 12), ('Aggrav Stalking After Injunctn', 12), ('Criminal Mischief>$200<$1000', 12), ('Burglary Dwelling Armed', 12), ('Fraudulent Use of Credit Card', 12), ('Poss 3,4 MDMA (Ecstasy)', 12), ('Possess Drug Paraphernalia', 11), ('Uttering Forged Bills', 11), ('Agg Fleeing and Eluding', 11), ('Aggravated Assault', 11), ('Fleeing or Eluding a LEO', 11), ('Stalking (Aggravated)', 11), ('Unauth Poss ID Card or DL', 11), ('Robbery W/Firearm', 11), ('Burglary Conveyance Assault/Bat', 10), ('Robbery / Weapon', 10), ('Possession Of Amphetamine', 10), ('Poss Wep Conv Felon', 10), ('Opert With Susp DL 2nd Offens', 10), ('Manufacture Cannabis', 10), ('Retail Theft $300 1st Offense', 10), ('Grand Theft Dwell Property', 10), ('Agg Assault W/int Com Fel Dome', 9), ('Unlaw Use False Name/Identity', 9), ('Fail Register Vehicle', 9), ('Drivg While Lic Suspd/Revk/Can', 9), ('Attempted Robbery  No Weapon', 8), ('Burglary Conveyance Armed', 8), ('Failure To Return Hired Vehicle', 8), ('DUI Blood Alcohol Above 0.20', 8), ('Purchase Cannabis', 8), ('Introduce Contraband Into Jail', 8), ('Grand Theft Firearm', 8), ('Possession of Morphine', 8), ('Viol Injunction Protect Dom Vi', 8), ('Tamper With Victim', 7), ('Fel Drive License Perm Revoke', 7), (nan, 6), ('Fail To Obey Police Officer', 6), ('Use Computer for Child Exploit', 6), ('Trespass Struct/Conveyance', 6), ('DUI- Enhanced', 6), ('Aggrav Child Abuse-Causes Harm', 6), ('Poss of Cocaine W/I/D/S 1000FT Park', 6), ('Grand Theft of the 2nd Degree', 6), ('Felony Committing Prostitution', 6), ('Neglect Child / Bodily Harm', 5), ('Trespassing/Construction Site', 5), ('Grand Theft in the 1st Degree', 5), ('Traff In Cocaine <400g>150 Kil', 5), ('Posses/Disply Susp/Revk/Frd DL', 5), ('Aggravated Assault W/o Firearm', 5), ('Burglary Conveyance Occupied', 5), ('Possess/Use Weapon 1 Deg Felon', 5), ('Poss of Firearm by Convic Felo', 5), ('Tresspass Struct/Conveyance', 5), ('Fail To Redeliv Hire/Leas Prop', 5), ('Aggrav Child Abuse-Agg Battery', 5), ('Poss Similitude of Drivers Lic', 5), ('Sell or Offer for Sale Counterfeit Goods', 5), ('Lewd/Lasc Battery Pers 12+/<16', 5), ('Possession Child Pornography', 5), ('Live on Earnings of Prostitute', 5), ('Poss Tetrahydrocannabinols', 5), ('Kidnapping / Domestic Violence', 4), ('Obstruct Officer W/Violence', 4), ('Sexual Battery / Vict 12 Yrs +', 4), ('Poss F/Arm Delinq', 4), ('Alcoholic Beverage Violation-FL', 4), ('Poss Unlaw Issue Id', 4), ('Felon in Pos of Firearm or Amm', 4), ('Poss Meth/Diox/Meth/Amp (MDMA)', 4), ('Attempted Burg/Convey/Unocc', 4), ('Use of Anti-Shoplifting Device', 4), ('Del Cannabis For Consideration', 4), ('Extradition/Defendants', 4), ('Att Tamper w/Physical Evidence', 4), ('Solicit Deliver Cocaine', 4), ('Strong Armed  Robbery', 4), ('Battery Emergency Care Provide', 4), ('Possession of Methadone', 4), ('Sexual Performance by a Child', 4), ('Agg Fleeing/Eluding High Speed', 4), ('Solicitation On Felony 3 Deg', 4), ('False Motor Veh Insurance Card', 4), ('Aggravated Battery On 65/Older', 4), ('Depriv LEO of Protect/Communic', 4), ('Threat Public Servant', 4), ('Stalking', 4), ('Theft/To Deprive', 3), ('Burglary Structure Assault/Batt', 3), ('Refuse Submit Blood/Breath Test', 3), ('Tamper With Witness', 3), ('Possession of LSD', 3), ('Arson in the First Degree', 3), ('Shoot Into Vehicle', 3), ('Obstruct Fire Equipment', 3), ('Throw Deadly Missile Into Veh', 3), ('Forging Bank Bills/Promis Note', 3), ('Possession of Codeine', 3), ('Burgl Dwel/Struct/Convey Armed', 3), ('Throw Missile Into Pub/Priv Dw', 3), ('Carrying A Concealed Weapon', 3), ('Escape', 3), ('Poss of Methylethcathinone', 3), ('Solicit To Deliver Cocaine', 3), ('D.U.I. Serious Bodily Injury', 3), ('Trespass', 3), ('Traffick Oxycodone     4g><14g', 3), ('Sale/Del Cannabis At/Near Scho', 3), ('Poss Anti-Shoplifting Device', 3), ('Unemployment Compensatn Fraud', 3), ('Aggravated Battery (Firearm)', 3), ('DWI w/Inj Susp Lic / Habit Off', 3), ('Possession Of Buprenorphine', 3), ('Grand Theft on 65 Yr or Older', 3), ('Violation License Restrictions', 3), ('DUI - Property Damage/Personal Injury', 3), ('DUI/Property Damage/Persnl Inj', 2), ('Att Burgl Occp Dwelling', 2), ('Trespass Structure/Conveyance', 2), ('DWLS Canceled Disqul 1st Off', 2), ('Defrauding Innkeeper', 2), ('Soliciting For Prostitution', 2), ('Contribute Delinquency Of A Minor', 2), ('Possession Of Lorazepam', 2), ('Traffick Amphetamine 28g><200g', 2), ('Use Scanning Device to Defraud', 2), ('Possession Of Carisoprodol', 2), ('Poss Oxycodone W/Int/Sell/Del', 2), ('Unlicensed Telemarketing', 2), ('Trespass Structure w/Dang Weap', 2), ('Possess Mot Veh W/Alt Vin #', 2), ('Delivery Of Drug Paraphernalia', 2), ('Trespass Struct/Convey Occupy', 2), ('Petit Theft Habitual Offender', 2), ('Possession of Benzylpiperazine', 2), ('Criminal Attempt 2nd Deg Felon', 2), ('Deliver Alprazolam', 2), ('Aiding Escape', 2), ('Prostitution/Lewdness/Assign', 2), ('Violation of Injunction Order/Stalking/Cyberstalking', 2), ('Poss of Ethylone W/I/D/S', 2), ('Poss of Firearm/Ammun/Dom Viol', 2), ('Cash Item w/Intent to Defraud', 2), ('Del 3,4 Methylenedioxymethcath', 2), ('Possession Of Diazepam', 2), ('Burglary Assault/Battery Armed', 2), ('Possess w/I/Utter Forged Bills', 2), ('Tresspass in Structure or Conveyance', 2), ('Fraud Obtain Food or Lodging', 2), ('Carry Open/Uncov Bev In Pub', 2), ('Giving False Crime Report', 2), ('Poss Alprazolam W/int Sell/Del', 2), ('Possession Of Fentanyl', 2), ('Carjacking with a Firearm', 2), ('Obtain Control Substance By Fraud', 2), ('Trespass Other Struct/Conve', 2), ('Offn Against Intellectual Prop', 2), ('Possession Of Clonazepam', 2), ('Leave Accd/Attend Veh/Less $50', 2), ('Intoxicated/Safety Of Another', 2), ('Harm Public Servant Or Family', 2), ('Imperson Public Officer or Emplyee', 2), ('Sale/Del Cocaine Child Care Fac', 2), ('Offer Agree Secure/Lewd Act', 2), ('Unlaw Pos of Prson ID of another', 2), ('Poss Of RX Without RX', 2), ('Poss Cntrft Contr Sub w/Intent', 2), ('Arson II (Vehicle)', 2), ('Att Burgl Conv Occp', 2), ('Grand Theft In The 3Rd Degree', 2), ('Sex Battery Deft 18+/Vict 11-', 2), ('Misuse Of 911 Or E911 System', 2), ('Fighting/Baiting Animals', 2), ('DOC/Cause Public Danger', 2), ('Poss Pyrrolidinovalerophenone W/I/D/S', 2), ('Counterfeit Lic Plates/Sticker', 2), ('Culpable Negligence', 2), ('Poss/Sell/Del Cocaine 1000FT Sch', 2), ('Forge Counterfeit Credit Card', 2), ('Possession of XLR11', 2), ('Attempt Murder in the First Degree', 2), ('Armed Kidnapping', 2), ('Poss Drugs W/O A Prescription', 2), ('Possession Of Oxymorphone', 2), ('Crim Attempt/Solicit/Consp', 2), ('Open Carrying Of Weapon', 2), ('Exhibition Weapon School Prop', 2), ('Uttering Forged Credit Card', 2), ('Abuse Without Great Harm', 2), ('Traffick Hydrocodone   4g><14g', 2), ('Possession Of 3,4Methylenediox', 2), ('Failure To Pay Taxi Cab Charge', 2), ('Deliver Cocaine 1000FT School', 2), ('Murder 2nd Degree W/Deadly Wep', 2), ('Lewdness Violation', 2), ('Leaving Scene Accident w/Death', 2), ('Conspiracy Dealing Stolen Prop', 2), ('Organized Fraud', 2), ('Del Cannabis At/Near Park', 2), ('Fail to Reg as Sexual Offender', 2), ('Sex Offender Fail Comply W/Law', 2), ('Solic to Commit Battery', 2), ('Trespass Private Property', 1), ('Agg Assault Law Enforc Officer', 1), ('Attempted Strongarm Robbery', 1), ('Burglary Damage Property>$1000', 1), ('Del Morphine at/near Park', 1), ('Delivery of 5-Fluoro PB-22', 1), ('Deliver Oxycodone', 1), ('Obtain Property Worthless Check', 1), ('Voyeurism', 1), ('Theft', 1), ('Deliver Cocaine 1000FT Church', 1), ('Sell Cannabis 1000FTChur', 1), ('DUI Property Damage', 1), ('Uttering Worthless Check +$150', 1), ('Theft of Trade Secrets', 1), ('Unl/Disturb Education/Instui', 1), ('Poss/pur/sell/deliver Cocaine', 1), ('Possession Of Phentermine', 1), ('Consp Traff Oxycodone  4g><14g', 1), ('Sel/Pur/Mfr/Del Control Substa', 1), ('Flee/Elude LEO-Agg Flee Unsafe', 1), ('Criminal Attempt 3rd Deg Felon', 1), ('Sell Cocaine', 1), ('Offer Agree Secure For Lewd Act', 1), ('Poss Pyrrolidinobutiophenone', 1), ('Traveling to Meet a Minor', 1), ('Murder in the First Degree', 1), ('Conspiracy to Deliver Cocaine', 1), ('Sell/Man/Del Pos/w/int Heroin', 1), ('Possession Of Anabolic Steroid', 1), ('Insurance Fraud', 1), ('Crlty Twrd Child Urge Oth Act', 1), ('Wear Mask w/Commit Offense', 1), ('Burglary Structure Occupied', 1), ('Discharge Firearm in Public/Res', 1), ('Trafficking In Cocaine 200-400', 1), ('Sex Batt Faml/Cust Vict 12-17Y', 1), ('Att Robbery Sudd Snatch No Weap', 1), ('Poss/Sell/Del/Man Amobarbital', 1), ('Harass Witness/Victm/Informnt', 1), ('Procure For Prostitution', 1), ('Possession Of Alcohol Under 21', 1), ('Fail To Redeliver Hire Prop', 1), ('Poss Counterfeit Payment Inst', 1), ('Deliver Cocaine 1000FT Store', 1), ('Attempted Deliv Control Subst', 1), ('Remove Cart/Retail Estab', 1), ('Sale/Del Counterfeit Cont Subs', 1), ('Cause Anoth Phone Ring Repeat', 1), ('DWLS Fin Obligation 1stOfense', 1), ('Pos Methylenedioxymethcath W/I/D/S', 1), ('Murder In 2nd Degree W/firearm', 1), ('Crim Attempt/Solic/Consp', 1), ('Aggravated Manslaughter Child', 1), ('Burglary', 1), ('Dealing In Stolen Property', 1), ('Attempt Armed Burglary Dwell', 1), ('Deliver Cannabis 1000FTSch', 1), ('Fabricating Physical Evidence', 1), ('Aggravated Animal Cruelty', 1), ('Reduced/Amended to Reckless Driving', 1), ('Obscenity', 1), ('Poss of Vessel w/Altered ID NO', 1), ('Obstruct Officer By Disguise', 1), ('Present Proof of Invalid Insur', 1), ('Deposit Item W/I/Defraud', 1), ('Traffic Counterfeit Cred Cards', 1), ('Issuing a Worthless Draft', 1), ('Tampering With A Victim', 1), ('Fail Register Career Offender', 1), ('Solicit ProstitutionViolation', 1), ('Poss Trifluoromethylphenylpipe', 1), ('Workers Compensation Fraud', 1), ('Grand Theft (motor Vehicle)', 1), ('Possess Weapon On School Prop', 1), ('Kidnapping', 1), ('Cruelty to Animals', 1), ('Manslaughter W/Weapon/Firearm', 1), ('Retail Theft $300 2nd Offense', 1), ('Solicit Purchase Cocaine', 1), ('Poss/Sell/Deliver Clonazepam', 1), ('Battery Spouse Or Girlfriend', 1), ('Crim Use Of Personal Id Info', 1), ('Aide/Abet Prostitution Lewdness', 1), ('Defrauding Innkeeper $300/More', 1), ('Use Of 2 Way Device To Fac Fel', 1), ('Assault Law Enforcement Officer', 1), ('Fail Obey Driv Lic Restrictions', 1), ('Threaten Throw Destruct Device', 1), ('Poss Of 1,4-Butanediol', 1), ('Attempted Robbery Firearm', 1), ('Attempted Aggravated Battery', 1), ('Trespass On School Grounds', 1), ('Crim Conspiracy 2nd Deg Felony', 1), ('Unlawful Alter Of Tag', 1), ('False Info LEO During Invest', 1), ('Consp Traff Oxycodone 28g><30k', 1), ('Delivery of Heroin', 1), ('Aggr Child Abuse-Torture,Punish', 1), ('Possession Of Cocaine', 1), ('Burglary Structure Armed', 1), ('Lewd Act Presence Child 16-', 1), ('Consume Alcoholic Bev Pub', 1), ('Money Launder 100K or More Dols', 1), ('Manage Busn W/O City Occup Lic', 1), ('Batt/on a Specified Employee', 1), ('Interfere W/Traf Cont Dev RR', 1), ('Unauth C/P/S Sounds>1000/Audio', 1), ('Purchase/P/W/Int Cannabis', 1), ('Unlawful Use Of Police Badges', 1), ('Possession Of Paraphernalia', 1), ('DWLS Susp/Cancel Revoked', 1), ('Trafficking In Methamphetamine', 1), ('Interfere With K9/Horses Duties', 1), ('Possession of Alcohol Under 21', 1), ('False Name By Person Arrest', 1), ('Unauthorized Interf w/Railroad', 1), ('Alcohol Bev Under Age Of 21', 1), ('Unlaw Fail Secur Work Comp Ins', 1), ('Domestic Battery By Stran', 1), ('Aggress/Panhandle/Beg/Solict', 1), ('Pos Gamma-Hydroxybutyric Acid', 1), ('Lewd/Lasciv Molest Elder Persn', 1), ('PL/Unlaw Use Credit Card', 1), ('Impersonating Police Officer', 1), ('Refuse to Supply DNA Sample', 1), ('Principal In The First Degree', 1), ('Att Burgl Struc/Conv Dwel/Occp', 1), ('Opert With Susp DL 2ND Offense', 1), ('Tampering with a Victim', 1), ('S/M/D/P/W/I Sch 1a,1b,1d,2a,2b', 1), ('Delivery Of Trenbolon Acetat', 1), ('DWLS Child Support 1st Offense', 1), ('Del of JWH-250 2-Methox 1-Pentyl', 1), ('Create/Poss/Use Fictitious Personal ID Info', 1), ('Agg Battery Cause Bodily', 1), ('Video Voyeur-<24Y on Child >16', 1), ('Unlawful Sexual Activity', 1), ('Contradict Statement', 1), ('Unauthor Copy of Sound Article', 1), ('Falsely Impersonating Officer', 1), ('Misuse of Dealer Tag', 1), ('Pos Cannabis W/I/D/S Near Worsh', 1), ('Armed Trafficking in Cannabis', 1), ('False Bomb Report', 1), ('Grand Theft Unlawful Use CC', 1), ('Robbery W/Deadly Weapon', 1), ('Poss 3,4 Methylendioxpyrovlerone', 1), ('False 911 Call', 1), ('Trespass/Property/Other Structure', 1), ('Poss/Sel/Del Cocaine 1000FT Chur', 1), ('Dispense Optical Dev w/out Prescr', 1), ('Fail Sex Offend Report Bylaw', 1), ('Trespass Property w/Dang Weap', 1), ('Restraining Order Dating Viol', 1), ('Battery On Parking Enfor Speci', 1), ('Bribery Athletic Contests', 1), ('Discharge Firearm From Vehicle', 1), ('Computer Pornography', 1), ('Neglect/Abuse Elderly Person', 1), ('Unlaw Lic Use/Disply Of Others', 1), ('Fail Surrender Tag/Reg/DL', 1), ('Interference with Custody', 1), ('Agg Fleeing And Eluding', 1), ('Possession Of MDMA W/I/D/S', 1), ('Traffic Cannabis/25-2000lbs', 1), ('Trans/Harm/Material to a Minor', 1), ('Resisting W/O Violence', 1), ('Sound Articles Over 100', 1), ('Purchasing Of Alprazolam', 1), ('Possession of Butylone', 1), ('Oper Motorcycle W/O Valid DL', 1), ('Petit Theft/ Prior Conviction', 1), ('Consp to Traffic Methamphetamine', 1), ('Accessory After the Fact', 1), ('Structuring Transactions', 1), ('Purchase Of Cocaine', 1), ('Carjacking w/o Deadly Weapon', 1), ('Shoot In Occupied Dwell', 1), ('Attempted Burg/struct/unocc', 1), ('Battery On A Person Over 65', 1), ('Poss Firearm W/Altered ID#', 1), ('Lease For Purpose Trafficking', 1), ('Battery On Fire Fighter', 1), ('Shoot Into Aircraft', 1), ('Possess Countrfeit Credit Card', 1), ('Possess Altered Bills', 1), ('Crim/Transmit of HIV Virus', 1), ('Attempt Burglary (Struct)', 1), ('Simulation of Legal Process', 1), ('Trespass After Warning', 1), ('Reckless Display Of Weapon', 1), ('Possess Controlled Substance', 1), ('Lewd or Lascivious Exhibition', 1), ('Hiring with Intent to Defraud', 1), ('Littering', 1), ('Gambling/Gamb Paraphernalia', 1), ('Sel Etc/Pos/w/Int Contrft Schd', 1), ('Sell Cannabis', 1), ('Assault/Battery On An Official', 1), ('Attempted Robbery  Weapon', 1), ('Lewd/Lasc Exhib Presence <16yr', 1), ('Defraud To Obtain Food/Lodg', 1), ('Prostitution', 1), ('Deliver Cannabis 1000FTChur', 1), ('Compulsory Attendance Violation', 1), ('Temporary Tag', 1), ('Felony DUI - Enhanced', 1), ('Murder in 2nd Degree', 1), ('Unlawful Conveyance of Fuel', 1), ('Grand Theft of a Fire Extinquisher', 1), ('Pos Cannabis For Consideration', 1), ('Exploit Elderly Person 20-100K', 1), ('Sell Conterfeit Cont Substance', 1), ('Possession Firearm School Prop', 1), ('Deliver Cocaine 1000FT Park', 1), ('Compulsory Sch Attnd Violation', 1), ('Aggravated Battery (Firearm/Actual Possession)', 1), ('Driving While Intoxicated', 1), ('Attempt/Solicitation/Conspiracy', 1), ('Possess Cannabis 1000FTSch', 1), ('Disrupting School Function', 1), ('Agg Abuse Elderlly/Disabled Adult', 1), ('Impair/Impede Phone/Power Dwell', 1), ('Poss 5-Methoxy-N-methyl-N-isop', 1), ('Attempt Sexual Batt / Vict 12+', 1), ('Throw In Occupied Dwell', 1)]\n"
     ]
    }
   ],
   "source": [
    "print Counter(df_scores['c_charge_desc']).most_common()"
   ]
  },
  {
   "cell_type": "code",
   "execution_count": 17,
   "metadata": {},
   "outputs": [
    {
     "name": "stdout",
     "output_type": "stream",
     "text": [
      "aggravated assault w/firearm\n",
      "felony battery w/prior convict\n",
      "battery\n",
      "battery on law enforc officer\n",
      "lewd/lasc battery pers 12+/<16\n",
      "burglary structure assault/batt\n",
      "agg battery grt/bod/harm\n",
      "aggravated battery / pregnant\n",
      "burglary dwelling assault/batt\n",
      "felony battery (dom strang)\n",
      "aggravated assault w/dead weap\n",
      "aggrav battery w/deadly weapon\n",
      "assault\n",
      "burglary conveyance assault/bat\n",
      "aggravated assault w/dead weap\n",
      "child abuse\n",
      "aggravated battery (firearm/actual possession)\n",
      "burglary with assault/battery\n",
      "sexual battery / vict 12 yrs +\n",
      "battery on parking enfor speci\n",
      "felony battery\n",
      "aggravated battery\n",
      "aggrav child abuse-agg battery\n",
      "aggravated assault\n",
      "manslaughter w/weapon/firearm\n",
      "battery on a person over 65\n",
      "sex battery deft 18+/vict 11-\n",
      "agg assault w/int com fel dome\n",
      "battery emergency care provide\n",
      "aggravated assault w/o firearm\n",
      "neglect/abuse elderly person\n",
      "solic to commit battery\n",
      "aggrav child abuse-causes harm\n",
      "felony batt(great bodily harm)\n",
      "agg assault law enforc officer\n",
      "aggr child abuse-torture,punish\n",
      "armed kidnapping\n",
      "assault/battery on an official\n",
      "kidnapping / domestic violence\n",
      "battery on a person over 65\n",
      "aggravated battery on 65/older\n",
      "abuse without great harm\n",
      "battery on fire fighter\n",
      "aggravated battery (firearm)\n",
      "murder in the first degree\n",
      "murder in 2nd degree w/firearm\n",
      "batt/on a specified employee\n",
      "attempt murder in the first degree\n",
      "murder in 2nd degree\n",
      "aggravated manslaughter child\n",
      "burglary assault/battery armed\n",
      "battery spouse or girlfriend\n",
      "agg abuse elderlly/disabled adult\n",
      "assault law enforcement officer\n",
      "murder 2nd degree w/deadly wep\n",
      "sex batt faml/cust vict 12-17y\n",
      "agg battery cause bodily\n",
      "attempted aggravated battery\n",
      "attempt sexual batt / vict 12+\n",
      "kidnapping\n",
      "domestic battery by stran\n"
     ]
    }
   ],
   "source": [
    "crimes = list(df_scores['c_charge_desc'].unique())\n",
    "for c in crimes:\n",
    "    crime = str(c).lower()\n",
    "    if any(d in crime for d in violent):\n",
    "        print crime"
   ]
  },
  {
   "cell_type": "code",
   "execution_count": 9,
   "metadata": {},
   "outputs": [
    {
     "data": {
      "text/plain": [
       "'Felony Battery (Dom Strang)'"
      ]
     },
     "execution_count": 9,
     "metadata": {},
     "output_type": "execute_result"
    }
   ],
   "source": [
    "list(df_scores['r_charge_desc'])[1]"
   ]
  },
  {
   "cell_type": "code",
   "execution_count": 13,
   "metadata": {},
   "outputs": [
    {
     "name": "stdout",
     "output_type": "stream",
     "text": [
      "prostitution/lewd act assignation ----- possession of cocaine\n",
      "sexual battery victim 12 yrs + ----- arrest case no charge\n",
      "lewd/assignation/prostitution ----- battery\n",
      "lewd/lasc battery pers 12+/<16 ----- arrest case no charge\n",
      "loiter solicit act prostitute ----- possession of cocaine\n",
      "solicit prostitutionviolation ----- possession of cocaine\n",
      "procure for prostitution ----- possession of cocaine\n",
      "felony committing prostitution ----- battery\n",
      "prostitution/lewd act assignation ----- possession of cocaine\n",
      "sex batt faml/cust vict 12-17y ----- lewd act presence child 16-\n",
      "prostitution ----- possession of cocaine\n",
      "prostitution/lewd act assignation ----- battery\n",
      "transport prostitution ----- driving while license revoked\n",
      "prostitution/lewd act assignation ----- possession of cocaine\n",
      "sex offender fail comply w/law ----- possession of cocaine\n",
      "sexual battery / vict 12 yrs + ----- felony battery (dom strang)\n",
      "renting for prostitution ----- disorderly conduct\n",
      "sex battery deft 18+/vict 11- ----- aggrav battery w/deadly weapon\n",
      "solicit prostitutionviolation ----- battery\n",
      "sex offender fail comply w/law ----- possession of cocaine\n",
      "prostitution/lewd act assignation ----- possession of cocaine\n",
      "felony committing prostitution ----- trespass private property\n",
      "lewd/lasc battery pers 12+/<16 ----- arrest case no charge\n",
      "loiter solicit act prostitute ----- possession of cocaine\n",
      "solicit prostitutionviolation ----- arrest case no charge\n",
      "felony committing prostitution ----- felony committing prostitution\n",
      "sex batt faml/cust vict 12-17y ----- battery\n",
      "procure person und 18/prostitu ----- poss3,4 methylenedioxymethcath\n",
      "prostitution/lewd act assignation ----- felony committing prostitution\n",
      "prostitution/lewd act assignation ----- felony committing prostitution\n",
      "sexual battery / vict 12 yrs + ----- possession of cocaine\n",
      "sexual battery / vict 12 yrs + ----- battery\n",
      "prostitution/lewd act assignation ----- petit theft $100- $300\n",
      "prostitution/lewd act assignation ----- uttering a forged instrument\n",
      "sex offender fail comply w/law ----- giving false crime report\n",
      "sexual battery / vict 12 yrs + ----- grand theft in the 3rd degree\n",
      "sexual battery / vict 12 yrs + ----- resist/obstruct w/o violence\n"
     ]
    }
   ],
   "source": [
    "sex_recid = 0\n",
    "for i in range(df_scores.shape[0]):\n",
    "    charge = str(list(df_scores['r_charge_desc'])[i]).lower()\n",
    "    if any(d in charge for d in sexual):\n",
    "        print charge, \"-----\", str(list(df_scores['c_charge_desc'])[i]).lower()"
   ]
  },
  {
   "cell_type": "code",
   "execution_count": 4,
   "metadata": {},
   "outputs": [
    {
     "name": "stdout",
     "output_type": "stream",
     "text": [
      "[\"('Prostitution/Lewd Act Assignation', 14)\", \"('Lewd or Lascivious Molestation', 12)\", \"('Felony Committing Prostitution', 6)\", \"('Lewd/Lasc Battery Pers 12+/<16', 5)\", \"('Possession Child Pornography', 5)\", \"('Live on Earnings of Prostitute', 5)\", \"('Sexual Battery / Vict 12 Yrs +', 4)\", \"('Sexual Performance by a Child', 4)\", \"('Soliciting For Prostitution', 2)\", \"('Prostitution/Lewdness/Assign', 2)\", \"('Offer Agree Secure/Lewd Act', 2)\", \"('Sex Battery Deft 18+/Vict 11-', 2)\", \"('Lewdness Violation', 2)\", \"('Fail to Reg as Sexual Offender', 2)\", \"('Sex Offender Fail Comply W/Law', 2)\", \"('Voyeurism', 1)\", \"('Offer Agree Secure For Lewd Act', 1)\", \"('Sex Batt Faml/Cust Vict 12-17Y', 1)\", \"('Procure For Prostitution', 1)\", \"('Solicit ProstitutionViolation', 1)\", \"('Aide/Abet Prostitution Lewdness', 1)\", \"('Lewd Act Presence Child 16-', 1)\", \"('Lewd/Lasciv Molest Elder Persn', 1)\", \"('Video Voyeur-<24Y on Child >16', 1)\", \"('Unlawful Sexual Activity', 1)\", \"('Fail Sex Offend Report Bylaw', 1)\", \"('Computer Pornography', 1)\", \"('Lewd or Lascivious Exhibition', 1)\", \"('Lewd/Lasc Exhib Presence <16yr', 1)\", \"('Prostitution', 1)\", \"('Attempt Sexual Batt / Vict 12+', 1)\"]\n"
     ]
    }
   ],
   "source": [
    "#charges = df_scores['c_charge_desc'].unique()\n",
    "charges = Counter(df_scores['c_charge_desc']).most_common()\n",
    "sexuals = []\n",
    "for charge in charges:\n",
    "    charge = str(charge)\n",
    "    if any(d in charge.lower() for d in sexual):\n",
    "        sexuals.append(charge)\n",
    "\n",
    "print sexuals"
   ]
  },
  {
   "cell_type": "code",
   "execution_count": 5,
   "metadata": {},
   "outputs": [
    {
     "name": "stdout",
     "output_type": "stream",
     "text": [
      "692 5\n"
     ]
    }
   ],
   "source": [
    "df_sexual = pd.read_csv('compas-r-sexual.csv')\n",
    "sex_recid = 0\n",
    "sex_double = 0\n",
    "for i in range(len(df_sexual['is_sexual_recid'])):\n",
    "    if int(df_sexual['is_sexual_recid'][i]) == 1:\n",
    "        sex_recid += 1\n",
    "        if int(df_sexual['prior_sexual'][i]) == 1:\n",
    "            sex_double += 1\n",
    "        #print df_scores[df_scores.id == df_sexual['id'][i]]\n",
    "print sex_recid, sex_double"
   ]
  },
  {
   "cell_type": "code",
   "execution_count": null,
   "metadata": {},
   "outputs": [],
   "source": []
  }
 ],
 "metadata": {
  "kernelspec": {
   "display_name": "Python 2",
   "language": "python",
   "name": "python2"
  },
  "language_info": {
   "codemirror_mode": {
    "name": "ipython",
    "version": 2
   },
   "file_extension": ".py",
   "mimetype": "text/x-python",
   "name": "python",
   "nbconvert_exporter": "python",
   "pygments_lexer": "ipython2",
   "version": "2.7.13"
  }
 },
 "nbformat": 4,
 "nbformat_minor": 2
}
