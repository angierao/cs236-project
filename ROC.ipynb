{
 "cells": [
  {
   "cell_type": "code",
   "execution_count": 2,
   "metadata": {},
   "outputs": [],
   "source": [
    "import pandas as pd\n",
    "import numpy as np\n",
    "import matplotlib.pyplot as plt\n",
    "import sklearn as sk\n",
    "from sklearn.linear_model import LinearRegression\n",
    "from sklearn.ensemble import RandomForestRegressor\n",
    "from sklearn.ensemble import RandomForestClassifier\n",
    "from sklearn.metrics import roc_auc_score\n",
    "from collections import Counter\n",
    "from datetime import datetime"
   ]
  },
  {
   "cell_type": "code",
   "execution_count": 34,
   "metadata": {},
   "outputs": [],
   "source": [
    "df0 = pd.read_csv('all_y_s_violent_0.csv', header=None)\n",
    "df1 = pd.read_csv('all_y_s_violent_1.csv', header=None)\n",
    "df2 = pd.read_csv('all_y_s_violent_2.csv', header=None)\n",
    "df3 = pd.read_csv('all_y_s_violent_3.csv', header=None)\n",
    "df4 = pd.read_csv('all_y_s_violent_4.csv', header=None)\n",
    "df5 = pd.read_csv('all_y_s_violent_5.csv', header=None)\n",
    "df6 = pd.read_csv('all_y_s_violent_6.csv', header=None)\n",
    "df7 = pd.read_csv('all_y_s_violent_7.csv', header=None)\n",
    "df8 = pd.read_csv('all_y_s_violent_8.csv', header=None)\n",
    "df9 = pd.read_csv('all_y_s_violent_9.csv', header=None)\n",
    "df10 = pd.read_csv('all_y_s_violent_10.csv', header=None)\n",
    "df11 = pd.read_csv('all_y_s_violent_11.csv', header=None)\n",
    "df12 = pd.read_csv('all_y_s_violent_12.csv', header=None)\n",
    "df13 = pd.read_csv('all_y_s_violent_13.csv', header=None)\n",
    "df_list = [df0,\n",
    "           df1,\n",
    "          df2,\n",
    "          df3,\n",
    "          df4,\n",
    "          df5,\n",
    "          df6,\n",
    "          df7,\n",
    "          df8,\n",
    "          df9,\n",
    "          df10,\n",
    "          df11,\n",
    "          df12,\n",
    "           df13]"
   ]
  },
  {
   "cell_type": "code",
   "execution_count": 41,
   "metadata": {},
   "outputs": [],
   "source": [
    "dfrv0 = pd.read_csv('all_y_rs_violent_0.csv', header=None)\n",
    "dfrv1 = pd.read_csv('all_y_rs_violent_1.csv', header=None)\n",
    "dfrv2 = pd.read_csv('all_y_rs_violent_2.csv', header=None)\n",
    "dfrv3 = pd.read_csv('all_y_rs_violent_3.csv', header=None)\n",
    "dfrv4 = pd.read_csv('all_y_rs_violent_4.csv', header=None)\n",
    "dfrv5 = pd.read_csv('all_y_rs_violent_5.csv', header=None)\n",
    "dfrv6 = pd.read_csv('all_y_rs_violent_6.csv', header=None)\n",
    "dfrv7 = pd.read_csv('all_y_rs_violent_7.csv', header=None)\n",
    "dfrv8 = pd.read_csv('all_y_rs_violent_8.csv', header=None)\n",
    "dfrv_list = [dfrv0, dfrv1, dfrv2, dfrv3, dfrv4, dfrv5, dfrv6, dfrv7, \n",
    "             dfrv8]"
   ]
  },
  {
   "cell_type": "code",
   "execution_count": 47,
   "metadata": {},
   "outputs": [],
   "source": [
    "dfspr0 = pd.read_csv('all_y_s_property_0.csv', header=None)\n",
    "dfspr1 = pd.read_csv('all_y_s_property_1.csv', header=None)\n",
    "dfspr2 = pd.read_csv('all_y_s_property_2.csv', header=None)\n",
    "dfspr3 = pd.read_csv('all_y_s_property_3.csv', header=None)\n",
    "dfspr4 = pd.read_csv('all_y_s_property_4.csv', header=None)\n",
    "dfspr5 = pd.read_csv('all_y_s_property_5.csv', header=None)\n",
    "dfspr6 = pd.read_csv('all_y_s_property_6.csv', header=None)\n",
    "dfspr7 = pd.read_csv('all_y_s_property_7.csv', header=None)\n",
    "dfspr8 = pd.read_csv('all_y_s_property_8.csv', header=None)\n",
    "dfspr_list = [dfspr0, dfspr1, dfspr2, dfspr3, dfspr4, dfspr5, dfspr6, dfspr7, dfspr8]"
   ]
  },
  {
   "cell_type": "code",
   "execution_count": 61,
   "metadata": {},
   "outputs": [],
   "source": [
    "dfsd0 = pd.read_csv('all_y_s_drugs_0.csv', header=None)\n",
    "dfsd1 = pd.read_csv('all_y_s_drugs_1.csv', header=None)\n",
    "dfsd2 = pd.read_csv('all_y_s_drugs_2.csv', header=None)\n",
    "dfsd3 = pd.read_csv('all_y_s_drugs_3.csv', header=None)\n",
    "dfsd4 = pd.read_csv('all_y_s_drugs_4.csv', header=None)\n",
    "dfsd5 = pd.read_csv('all_y_s_drugs_5.csv', header=None)\n",
    "dfsd6 = pd.read_csv('all_y_s_drugs_6.csv', header=None)\n",
    "dfsd7 = pd.read_csv('all_y_s_drugs_7.csv', header=None)\n",
    "dfsd8 = pd.read_csv('all_y_s_drugs_8.csv', header=None)\n",
    "dfsd_list = [dfsd0, dfsd1, dfsd2, dfsd3, dfsd4, dfsd5, dfsd6, dfsd7, dfsd8]"
   ]
  },
  {
   "cell_type": "code",
   "execution_count": 64,
   "metadata": {},
   "outputs": [],
   "source": [
    "dfrsd0 = pd.read_csv('all_y_rs_drugs_0.csv', header=None)\n",
    "dfrsd1 = pd.read_csv('all_y_rs_drugs_1.csv', header=None)\n",
    "dfrsd2 = pd.read_csv('all_y_rs_drugs_2.csv', header=None)\n",
    "dfrsd3 = pd.read_csv('all_y_rs_drugs_3.csv', header=None)\n",
    "dfrsd4 = pd.read_csv('all_y_rs_drugs_4.csv', header=None)\n",
    "dfrsd5 = pd.read_csv('all_y_rs_drugs_5.csv', header=None)\n",
    "dfrsd6 = pd.read_csv('all_y_rs_drugs_6.csv', header=None)\n",
    "dfrsd7 = pd.read_csv('all_y_rs_drugs_7.csv', header=None)\n",
    "dfrsd8 = pd.read_csv('all_y_rs_drugs_8.csv', header=None)\n",
    "dfrsd_list = [dfrsd0, dfrsd1, dfrsd2, dfrsd3, dfrsd4, dfrsd5, dfrsd6, dfrsd7, dfrsd8]"
   ]
  },
  {
   "cell_type": "code",
   "execution_count": 67,
   "metadata": {},
   "outputs": [],
   "source": [
    "dfrspo0 = pd.read_csv('all_y_rs_po_0.csv', header=None)\n",
    "dfrspo1 = pd.read_csv('all_y_rs_po_1.csv', header=None)\n",
    "dfrspo2 = pd.read_csv('all_y_rs_po_2.csv', header=None)\n",
    "dfrspo3 = pd.read_csv('all_y_rs_po_3.csv', header=None)\n",
    "dfrspo4 = pd.read_csv('all_y_rs_po_4.csv', header=None)\n",
    "dfrspo5 = pd.read_csv('all_y_rs_po_5.csv', header=None)\n",
    "dfrspo6 = pd.read_csv('all_y_rs_po_6.csv', header=None)\n",
    "dfrspo7 = pd.read_csv('all_y_rs_po_7.csv', header=None)\n",
    "dfrspo8 = pd.read_csv('all_y_rs_po_8.csv', header=None)\n",
    "dfrspo_list = [dfrspo0, dfrspo1, dfrspo2, dfrspo3, dfrspo4, dfrspo5, dfrspo6, dfrspo7, dfrspo8]"
   ]
  },
  {
   "cell_type": "code",
   "execution_count": 79,
   "metadata": {},
   "outputs": [],
   "source": [
    "dfspo0 = pd.read_csv('all_y_s_po_0.csv', header=None)\n",
    "dfspo1 = pd.read_csv('all_y_s_po_1.csv', header=None)\n",
    "dfspo2 = pd.read_csv('all_y_s_po_2.csv', header=None)\n",
    "dfspo3 = pd.read_csv('all_y_s_po_3.csv', header=None)\n",
    "dfspo4 = pd.read_csv('all_y_s_po_4.csv', header=None)\n",
    "dfspo5 = pd.read_csv('all_y_s_po_5.csv', header=None)\n",
    "dfspo6 = pd.read_csv('all_y_s_po_6.csv', header=None)\n",
    "dfspo7 = pd.read_csv('all_y_s_po_7.csv', header=None)\n",
    "dfspo8 = pd.read_csv('all_y_s_po_8.csv', header=None)\n",
    "dfspo_list = [dfspo0, dfspo1, dfspo2, dfspo3, dfspo4, dfspo5, dfspo6, dfspo7, dfspo8]"
   ]
  },
  {
   "cell_type": "code",
   "execution_count": 54,
   "metadata": {},
   "outputs": [],
   "source": [
    "dfsa0 = pd.read_csv('all_y_s_all_0.csv', header=None)\n",
    "dfsa1 = pd.read_csv('all_y_s_all_1.csv', header=None)\n",
    "dfsa2 = pd.read_csv('all_y_s_all_2.csv', header=None)\n",
    "dfsa3 = pd.read_csv('all_y_s_all_3.csv', header=None)\n",
    "dfsa4 = pd.read_csv('all_y_s_all_4.csv', header=None)\n",
    "dfsa5 = pd.read_csv('all_y_s_all_5.csv', header=None)\n",
    "dfsa_list = [dfsa0, dfsa1, dfsa2, dfsa3, dfsa4, dfsa5]"
   ]
  },
  {
   "cell_type": "code",
   "execution_count": 57,
   "metadata": {},
   "outputs": [],
   "source": [
    "dfrsa0 = pd.read_csv('all_y_rs_all_0.csv', header=None)\n",
    "dfrsa1 = pd.read_csv('all_y_rs_all_1.csv', header=None)\n",
    "dfrsa2 = pd.read_csv('all_y_rs_all_2.csv', header=None)\n",
    "dfrsa3 = pd.read_csv('all_y_rs_all_3.csv', header=None)\n",
    "dfrsa4 = pd.read_csv('all_y_rs_all_4.csv', header=None)\n",
    "dfrsa5 = pd.read_csv('all_y_rs_all_5.csv', header=None)\n",
    "dfrsa_list = [dfrsa0, dfrsa1, dfrsa2, dfrsa3, dfrsa4, dfrsa5]"
   ]
  },
  {
   "cell_type": "code",
   "execution_count": 50,
   "metadata": {},
   "outputs": [],
   "source": [
    "dfrspr0 = pd.read_csv('all_y_rs_property_0.csv', header=None)\n",
    "dfrspr1 = pd.read_csv('all_y_rs_property_1.csv', header=None)\n",
    "dfrspr2 = pd.read_csv('all_y_rs_property_2.csv', header=None)\n",
    "dfrspr3 = pd.read_csv('all_y_rs_property_3.csv', header=None)\n",
    "dfrspr4 = pd.read_csv('all_y_rs_property_4.csv', header=None)\n",
    "dfrspr5 = pd.read_csv('all_y_rs_property_5.csv', header=None)\n",
    "dfrspr6 = pd.read_csv('all_y_rs_property_6.csv', header=None)\n",
    "dfrspr7 = pd.read_csv('all_y_rs_property_7.csv', header=None)\n",
    "dfrspr8 = pd.read_csv('all_y_rs_property_8.csv', header=None)\n",
    "dfrspr_list = [dfrspr0, dfrspr1, dfrspr2, dfrspr3, dfrspr4, dfrspr5, dfrspr6, dfrspr7, dfrspr8]"
   ]
  },
  {
   "cell_type": "code",
   "execution_count": 42,
   "metadata": {},
   "outputs": [
    {
     "data": {
      "text/plain": [
       "'1.200000000000000000e+01'"
      ]
     },
     "execution_count": 42,
     "metadata": {},
     "output_type": "execute_result"
    }
   ],
   "source": [
    "df.iloc[1].tolist()[0].split(' ')[1]"
   ]
  },
  {
   "cell_type": "code",
   "execution_count": 82,
   "metadata": {},
   "outputs": [],
   "source": [
    "#weights = [1, 3, 3.44, 4, 4.71, 5.67, 7, 9, 12.333, 19, 30, 50, 200, 5000]\n",
    "aucs = []\n",
    "lst = dfsa_list\n",
    "for i, df in enumerate(lst):\n",
    "    y_true = []\n",
    "    y_pred = []\n",
    "    for i in range(df.shape[0]):\n",
    "        y_t = float(df.iloc[i].tolist()[0].split(' ')[0])\n",
    "        y_p = float(df.iloc[i].tolist()[0].split(' ')[1])\n",
    "\n",
    "        y_true.append(y_t)\n",
    "        y_pred.append(y_p)\n",
    "    aucs.append(roc_auc_score(y_true, y_pred))"
   ]
  },
  {
   "cell_type": "code",
   "execution_count": 83,
   "metadata": {},
   "outputs": [
    {
     "data": {
      "text/plain": [
       "[0.5113210992422167,\n",
       " 0.5384249448600961,\n",
       " 0.619123816113826,\n",
       " 0.6573690800542853,\n",
       " 0.6111104246510551,\n",
       " 0.498685772222943]"
      ]
     },
     "execution_count": 83,
     "metadata": {},
     "output_type": "execute_result"
    }
   ],
   "source": [
    "aucs"
   ]
  },
  {
   "cell_type": "code",
   "execution_count": 74,
   "metadata": {},
   "outputs": [
    {
     "data": {
      "text/plain": [
       "0.631454303721412"
      ]
     },
     "execution_count": 74,
     "metadata": {},
     "output_type": "execute_result"
    }
   ],
   "source": [
    "roc_auc_score(y_true, y_pred)"
   ]
  },
  {
   "cell_type": "code",
   "execution_count": null,
   "metadata": {},
   "outputs": [],
   "source": []
  }
 ],
 "metadata": {
  "kernelspec": {
   "display_name": "Python 2",
   "language": "python",
   "name": "python2"
  },
  "language_info": {
   "codemirror_mode": {
    "name": "ipython",
    "version": 2
   },
   "file_extension": ".py",
   "mimetype": "text/x-python",
   "name": "python",
   "nbconvert_exporter": "python",
   "pygments_lexer": "ipython2",
   "version": "2.7.13"
  }
 },
 "nbformat": 4,
 "nbformat_minor": 2
}
